{
  "cells": [
    {
      "cell_type": "markdown",
      "metadata": {
        "id": "view-in-github",
        "colab_type": "text"
      },
      "source": [
        "<a href=\"https://colab.research.google.com/github/Datadrivendami/GoMyCode-/blob/main/pizza%20delivery%20system.ipynb\" target=\"_parent\"><img src=\"https://colab.research.google.com/assets/colab-badge.svg\" alt=\"Open In Colab\"/></a>"
      ]
    },
    {
      "cell_type": "code",
      "execution_count": null,
      "metadata": {
        "colab": {
          "background_save": true,
          "base_uri": "https://localhost:8080/"
        },
        "id": "tmsac7a-ROb7",
        "outputId": "22f1b2bb-7efb-40a5-832b-7b844f077499"
      },
      "outputs": [
        {
          "name": "stdout",
          "output_type": "stream",
          "text": [
            " Welcome to dami's pizza Delivery \n"
          ]
        }
      ],
      "source": [
        "print(\" Welcome to dami's pizza Delivery \")\n",
        "size = input(\"what size pizza do you want S,M or L:\")\n",
        "add_pepperoni =input(\"Do you want pepperoni?  Y or N:\")\n",
        "extra_cheese = input(\"Do you want extra cheese? Y or N:\")"
      ]
    },
    {
      "cell_type": "code",
      "execution_count": null,
      "metadata": {
        "id": "_rSxMkCrSlJP"
      },
      "outputs": [],
      "source": [
        "bill = 0\n",
        "if size ==\"S\"\n",
        " bill +=15\n",
        "elif size == \"M\":\n",
        " bill +=20\n",
        "elif size == \"L\":\n",
        "  bill +=25\n",
        "\n"
      ]
    },
    {
      "cell_type": "code",
      "execution_count": null,
      "metadata": {
        "id": "-bCNT2zbSx-B"
      },
      "outputs": [],
      "source": [
        "if add_pepperoni == \"Y\":\n",
        "  if size ==\"S\":\n",
        "     bill += 2\n",
        "     else:\n",
        "      bill += 3\n",
        " if extra_cheese == \"Y\":\n",
        "    bill +=1\n",
        "print()"
      ]
    },
    {
      "cell_type": "markdown",
      "metadata": {
        "id": "bQ8rqCKOY3Cv"
      },
      "source": []
    },
    {
      "cell_type": "markdown",
      "metadata": {
        "id": "Sm8NAoHeY-Yi"
      },
      "source": []
    }
  ],
  "metadata": {
    "colab": {
      "provenance": [],
      "toc_visible": true,
      "authorship_tag": "ABX9TyPAiBSv7JFgnR0VZSwmNwZH",
      "include_colab_link": true
    },
    "kernelspec": {
      "display_name": "Python 3",
      "name": "python3"
    },
    "language_info": {
      "name": "python"
    }
  },
  "nbformat": 4,
  "nbformat_minor": 0
}