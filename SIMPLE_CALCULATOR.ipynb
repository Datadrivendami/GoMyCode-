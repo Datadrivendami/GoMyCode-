{
  "nbformat": 4,
  "nbformat_minor": 0,
  "metadata": {
    "colab": {
      "provenance": [],
      "authorship_tag": "ABX9TyOJnpC4IzDZhq7sIkUj9wtH",
      "include_colab_link": true
    },
    "kernelspec": {
      "name": "python3",
      "display_name": "Python 3"
    },
    "language_info": {
      "name": "python"
    }
  },
  "cells": [
    {
      "cell_type": "markdown",
      "metadata": {
        "id": "view-in-github",
        "colab_type": "text"
      },
      "source": [
        "<a href=\"https://colab.research.google.com/github/Datadrivendami/GoMyCode-/blob/main/SIMPLE_CALCULATOR.ipynb\" target=\"_parent\"><img src=\"https://colab.research.google.com/assets/colab-badge.svg\" alt=\"Open In Colab\"/></a>"
      ]
    },
    {
      "cell_type": "code",
      "source": [
        "operator = input(\"Enter an operator (+ - * / =):\")\n",
        "num1 = float(input(\"Enter the 1st number:\"))\n",
        "num2 = float(input(\"Enter the 2nd number:\"))"
      ],
      "metadata": {
        "id": "bxkAMzGBCkmJ"
      },
      "execution_count": null,
      "outputs": []
    },
    {
      "source": [
        "if operator == \"\n",
        "+\":\n",
        "  result = num1 + num2\n",
        "  print(round(result, 3))\n",
        "elif operator == \"-\":\n",
        "  result = num1 - num2\n",
        "  print(round(result, 3))\n",
        "elif operator == \"*\":\n",
        "  result = num1 * num2\n",
        "  print(round(result, 3))\n",
        "elif operator == \"/\":\n",
        "  result = num1 / num2\n",
        "  print(round(result, 3))\n",
        "else:\n",
        "  print(f\"{operator} is not a valid operator\")"
      ],
      "cell_type": "code",
      "metadata": {
        "id": "0SH-T3x2Jc1o"
      },
      "execution_count": null,
      "outputs": []
    }
  ]
}