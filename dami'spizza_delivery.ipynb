{
  "nbformat": 4,
  "nbformat_minor": 0,
  "metadata": {
    "colab": {
      "provenance": [],
      "authorship_tag": "ABX9TyO9Yh7qJbWZKFVvdTU65/Te",
      "include_colab_link": true
    },
    "kernelspec": {
      "name": "python3",
      "display_name": "Python 3"
    },
    "language_info": {
      "name": "python"
    }
  },
  "cells": [
    {
      "cell_type": "markdown",
      "metadata": {
        "id": "view-in-github",
        "colab_type": "text"
      },
      "source": [
        "<a href=\"https://colab.research.google.com/github/Datadrivendami/GoMyCode-/blob/main/dami'spizza_delivery.ipynb\" target=\"_parent\"><img src=\"https://colab.research.google.com/assets/colab-badge.svg\" alt=\"Open In Colab\"/></a>"
      ]
    },
    {
      "cell_type": "code",
      "execution_count": 16,
      "metadata": {
        "colab": {
          "base_uri": "https://localhost:8080/"
        },
        "id": "9MeN1Gp7Y8bR",
        "outputId": "33c64cfd-7ea1-4254-90af-31bbd62551e4"
      },
      "outputs": [
        {
          "output_type": "stream",
          "name": "stdout",
          "text": [
            "welcome to pizza with Dami\n",
            "\n",
            "What size of pizza do you want?\n",
            "Small=N3,500\n",
            "Medium=N8,000\n",
            "Large= N15000\n",
            "\n",
            "large\n",
            "\n",
            "Choose the pizza size from the above mentioned sizes only\n",
            "Toppings available:\n",
            "pepperoni=N1500\n",
            "bbq meatlovers=N1500\n",
            "black olives=N1000\n",
            "if all toppings price=N5000\n",
            "\n",
            "What toppings do you want? pepperoni, bbq meatlovers, mushrooms, black olives. Type all for all 4 toppings.\n",
            "\n",
            "pepperoni\n",
            "\n",
            "The total amount to be paid is N1000\n"
          ]
        }
      ],
      "source": [
        "print(\"welcome to pizza with Dami\")\n",
        "size = input(\"\\nWhat size of pizza do you want?\\nSmall=N3,500\\nMedium=N8,000\\nLarge= N15000\\n\\n\")\n",
        "bill = 0\n",
        "if size.lower()== \"small\":\n",
        "   bill +=3500\n",
        "elif size.lower() == \"Medium\":\n",
        "  bill += 8000\n",
        "elif size.lower() == \"Large\":\n",
        "  bill += 15000\n",
        "else:\n",
        "  print(\"\\nChoose the pizza size from the above mentioned sizes only\")\n",
        "print(\"Toppings available:\\npepperoni=N1500\\nbbq meatlovers=N1500\\nblack olives=N1000\\nif all toppings price=N5000\")\n",
        "toppings = input(\"\\nWhat toppings do you want? pepperoni, bbq meatlovers, mushrooms, black olives. Type all for all 4 toppings.\\n\\n\")\n",
        "if toppings.lower() == \"pepperoni\":\n",
        "  bill +=1000\n",
        "elif toppings.lower() == \"bbq meatlover\":\n",
        "  bill +=1500\n",
        "elif toppings.lower() == \"mushrooms\":\n",
        "  bill +=2000\n",
        "elif toppings.lower() == \"blac olives\":\n",
        "  bill +=1000\n",
        "elif toppings.lower () == \"all\":\n",
        "  bill += 55000\n",
        "else:\n",
        "  print(\"Choose toppings from the above mentioned list only.\\n\")\n",
        "print(f\"\\nThe total amount to be paid is N{bill}\")\n"
      ]
    }
  ]
}